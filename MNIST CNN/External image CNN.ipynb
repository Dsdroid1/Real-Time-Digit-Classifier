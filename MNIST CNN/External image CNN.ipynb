{
 "cells": [
  {
   "cell_type": "code",
   "execution_count": null,
   "metadata": {},
   "outputs": [],
   "source": [
    "import torch\n",
    "import torch.nn as nn\n",
    "import torch.nn.functional as F\n",
    "import torch.optim as optim\n",
    "\n",
    "import numpy as np\n",
    "import pandas as pd\n",
    "import matplotlib.pyplot as plt\n",
    "import cv2"
   ]
  },
  {
   "cell_type": "code",
   "execution_count": null,
   "metadata": {},
   "outputs": [],
   "source": [
    "class Network(nn.Module):#Extends all features of Module(bulit in class)to oyr network class\n",
    "    def __init__(self):#Defines the type of layers as part of the object\n",
    "        super(Network,self).__init__()\n",
    "        self.conv1=nn.Conv2d(in_channels=1,out_channels=6,kernel_size=3,stride=(1,1))\n",
    "        self.conv2=nn.Conv2d(in_channels=6,out_channels=10,kernel_size=5,stride=(1,1))\n",
    "        \n",
    "        self.fc1=nn.Linear(in_features=10*4*4,out_features=90)\n",
    "        self.out=nn.Linear(in_features=90,out_features=10)\n",
    "    \n",
    "    \n",
    "    def forward(self,t):\n",
    "        \n",
    "        #Conv layer 1\n",
    "        t=self.conv1(t)#Implements the forward pass through predefined functions in the nn.Module class\n",
    "        t=F.relu(t)\n",
    "        t=F.max_pool2d(t,kernel_size=2,stride=2)\n",
    "        \n",
    "        #Conv layer 2\n",
    "        t=self.conv2(t)\n",
    "        t=F.relu(t)\n",
    "        t=F.max_pool2d(t,kernel_size=2,stride=2)\n",
    "        \n",
    "        #Fc layer 1\n",
    "        t=t.reshape(-1,10*4*4)\n",
    "        t=self.fc1(t)\n",
    "        t=F.relu(t)\n",
    "        \n",
    "        #Final softmax layer\n",
    "        t=self.out(t)\n",
    "        #t=F.softmax(t,dim=1),No need to do this cross entropy does it by itself\n",
    "        \n",
    "        return t"
   ]
  },
  {
   "cell_type": "code",
   "execution_count": null,
   "metadata": {},
   "outputs": [],
   "source": [
    "net=torch.load('ConvNet minibatch MNIST.pth')\n",
    "net.eval()"
   ]
  },
  {
   "cell_type": "code",
   "execution_count": null,
   "metadata": {},
   "outputs": [],
   "source": [
    "img1=plt.imread('Downloads/img/6i.jpeg')"
   ]
  },
  {
   "cell_type": "code",
   "execution_count": null,
   "metadata": {},
   "outputs": [],
   "source": [
    "plt.imshow(img1)"
   ]
  },
  {
   "cell_type": "code",
   "execution_count": null,
   "metadata": {},
   "outputs": [],
   "source": [
    "np.array(img1)\n",
    "imgt=torch.from_numpy(img1)"
   ]
  },
  {
   "cell_type": "code",
   "execution_count": null,
   "metadata": {},
   "outputs": [],
   "source": [
    "type(img1)"
   ]
  },
  {
   "cell_type": "code",
   "execution_count": null,
   "metadata": {},
   "outputs": [],
   "source": [
    "#pred=net(255-imgt.unsqueeze(0).unsqueeze(0).float())"
   ]
  },
  {
   "cell_type": "code",
   "execution_count": null,
   "metadata": {},
   "outputs": [],
   "source": [
    "print(pred.argmax(dim=1))"
   ]
  },
  {
   "cell_type": "code",
   "execution_count": null,
   "metadata": {},
   "outputs": [],
   "source": [
    "def preprocess(image):\n",
    "    img2=img1[:,:,0]/3+img1[:,:,1]/3+img1[:,:,2]/3\n",
    "    v_s = 0\n",
    "    v_e = img2.shape[0]\n",
    "\n",
    "    h_s = 0\n",
    "    h_e = img2.shape[1]\n",
    "\n",
    "    for i in range(img2.shape[0]):\n",
    "        if np.min(img2[i, :]) > 30:\n",
    "            v_s += 1\n",
    "        else:\n",
    "            break\n",
    "    for i in reversed(range(img2.shape[0])):\n",
    "        if np.min(img2[i, :]) > 30:\n",
    "            v_e -= 1\n",
    "        else:\n",
    "            break\n",
    "    for i in range(img2.shape[1]):\n",
    "        if np.min(img2[:, i]) > 30:\n",
    "            h_s += 1\n",
    "        else:\n",
    "            break\n",
    "    for i in reversed(range(img2.shape[1])):\n",
    "        if np.min(img2[:, i]) > 30:\n",
    "            h_e -= 1\n",
    "        else:\n",
    "            break\n",
    "\n",
    "    # Slicing that image\n",
    "    img3 = img2[v_s:v_e, h_s:h_e]\n",
    "     # Maintaining the aspect ratio\n",
    "    ih = h_e - h_s\n",
    "    iv = v_e - v_s\n",
    "    if ih > iv:\n",
    "        p = int((ih - iv) / 2)\n",
    "        img4 = np.pad(np.array(img3), ((p, p), (0, 0)), 'constant', constant_values=(255, 255))\n",
    "    else:\n",
    "        p = int((iv - ih) / 2)\n",
    "        img4 = np.pad(np.array(img3), ((0, 0), (p, p)), 'constant', constant_values=(255, 255))\n",
    "\n",
    "    img5 = cv2.resize(img4, (20, 20))\n",
    "    return img5"
   ]
  },
  {
   "cell_type": "code",
   "execution_count": null,
   "metadata": {},
   "outputs": [],
   "source": [
    "i=preprocess(img1)"
   ]
  },
  {
   "cell_type": "code",
   "execution_count": null,
   "metadata": {},
   "outputs": [],
   "source": [
    "plt.imshow(i,cmap='gray')"
   ]
  },
  {
   "cell_type": "code",
   "execution_count": null,
   "metadata": {},
   "outputs": [],
   "source": [
    "def find_centroid(img):\n",
    "    x_cm=0\n",
    "    y_cm=0\n",
    "    img=255-img\n",
    "    for i in range(1,img.shape[0]+1):\n",
    "        y_cm+=np.sum(i*img[:,i-1])\n",
    "    for i in range(1,img.shape[1]+1):\n",
    "        x_cm+=np.sum(i*img[i-1,:])\n",
    "    y_cm=int(y_cm/np.sum(img))\n",
    "    x_cm=int(x_cm/np.sum(img))\n",
    "    return x_cm,y_cm"
   ]
  },
  {
   "cell_type": "code",
   "execution_count": null,
   "metadata": {},
   "outputs": [],
   "source": [
    "x,y= find_centroid(i)\n",
    "print(x)\n",
    "print(y)"
   ]
  },
  {
   "cell_type": "code",
   "execution_count": null,
   "metadata": {},
   "outputs": [],
   "source": [
    "def padder(img,x,y):\n",
    "\n",
    "    k=10-y\n",
    "    h=10-x\n",
    "        \n",
    "        \n",
    "        \n",
    "    img = np.pad(np.array(img), ((4+h, 4-h), (4+k, 4-k)), 'constant', constant_values=(255, 255))\n",
    "    return(img)    "
   ]
  },
  {
   "cell_type": "code",
   "execution_count": null,
   "metadata": {},
   "outputs": [],
   "source": [
    "i1=padder(i,x,y)\n",
    "plt.imshow(i1)"
   ]
  },
  {
   "cell_type": "code",
   "execution_count": null,
   "metadata": {},
   "outputs": [],
   "source": [
    "x1,y1=find_centroid(i1)\n",
    "print(x1,y1)"
   ]
  },
  {
   "cell_type": "code",
   "execution_count": null,
   "metadata": {},
   "outputs": [],
   "source": [
    "i_un = np.pad(i, ((4, 4), (4, 4)), 'constant', constant_values=(255, 255))\n",
    "input=torch.from_numpy(255-i_un)\n",
    "net=torch.load('ConvNet MNIST.pth')\n",
    "net.eval()\n",
    "\n",
    "pred=net(input.unsqueeze(0).unsqueeze(0).float())\n",
    "#print(pred)\n",
    "\n",
    "print(\"Prediction:\"+str(int(pred.argmax(dim=1))))\n"
   ]
  },
  {
   "cell_type": "code",
   "execution_count": null,
   "metadata": {},
   "outputs": [],
   "source": [
    "input=torch.from_numpy(255-i1)\n",
    "net=torch.load('ConvNet MNIST.pth')\n",
    "net.eval()\n",
    "\n",
    "pred=net(input.unsqueeze(0).unsqueeze(0).float())\n",
    "#print(pred)\n",
    "\n",
    "print(\"Prediction:\"+str(int(pred.argmax(dim=1))))\n"
   ]
  },
  {
   "cell_type": "code",
   "execution_count": null,
   "metadata": {},
   "outputs": [],
   "source": []
  },
  {
   "cell_type": "code",
   "execution_count": null,
   "metadata": {},
   "outputs": [],
   "source": []
  }
 ],
 "metadata": {
  "kernelspec": {
   "display_name": "Python 3",
   "language": "python",
   "name": "python3"
  },
  "language_info": {
   "codemirror_mode": {
    "name": "ipython",
    "version": 3
   },
   "file_extension": ".py",
   "mimetype": "text/x-python",
   "name": "python",
   "nbconvert_exporter": "python",
   "pygments_lexer": "ipython3",
   "version": "3.7.3"
  }
 },
 "nbformat": 4,
 "nbformat_minor": 2
}

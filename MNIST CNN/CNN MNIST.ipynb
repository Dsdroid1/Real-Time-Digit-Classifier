{
 "cells": [
  {
   "cell_type": "code",
   "execution_count": null,
   "metadata": {},
   "outputs": [],
   "source": [
    "import torch\n",
    "import torch.nn as nn\n",
    "import torch.nn.functional as F\n",
    "import torch.optim as optim\n",
    "\n",
    "import torchvision\n",
    "import torchvision.transforms as transforms\n",
    "\n",
    "import numpy as np\n",
    "import matplotlib.pyplot as plt"
   ]
  },
  {
   "cell_type": "code",
   "execution_count": null,
   "metadata": {},
   "outputs": [],
   "source": [
    "transform = transforms.Compose(\n",
    "    [transforms.ToTensor()])\n",
    "\n",
    "trainset = torchvision.datasets.MNIST(root='./data', train=True,\n",
    "                                        download=True, transform=transform)\n",
    "\n",
    "trainloader = torch.utils.data.DataLoader(trainset, batch_size=512)\n",
    "trainloader1 = torch.utils.data.DataLoader(trainset, batch_size=len(trainset))\n",
    "testset = torchvision.datasets.MNIST(root='./data', train=False,\n",
    "                                       download=True, transform=transform)\n",
    "testloader = torch.utils.data.DataLoader(testset, batch_size=len(testset))\n",
    "testloader_display= torch.utils.data.DataLoader(testset, batch_size=1)"
   ]
  },
  {
   "cell_type": "code",
   "execution_count": null,
   "metadata": {},
   "outputs": [],
   "source": [
    "type(trainset)"
   ]
  },
  {
   "cell_type": "code",
   "execution_count": null,
   "metadata": {},
   "outputs": [],
   "source": [
    "class Network(nn.Module):#Extends all features of Module(bulit in class)to oyr network class\n",
    "    def __init__(self):#Defines the type of layers as part of the object\n",
    "        super(Network,self).__init__()\n",
    "        self.conv1=nn.Conv2d(in_channels=1,out_channels=6,kernel_size=3,stride=(1,1))\n",
    "        self.conv2=nn.Conv2d(in_channels=6,out_channels=10,kernel_size=5,stride=(1,1))\n",
    "        \n",
    "        self.fc1=nn.Linear(in_features=10*4*4,out_features=90)\n",
    "        self.out=nn.Linear(in_features=90,out_features=10)\n",
    "    \n",
    "    \n",
    "    def forward(self,t):\n",
    "        #Conv layer 1\n",
    "        t=self.conv1(t)#Implements the forward pass through predefined functions in the nn.Module class\n",
    "        t=F.relu(t)\n",
    "        t=F.max_pool2d(t,kernel_size=2,stride=2)\n",
    "        \n",
    "        #Conv layer 2\n",
    "        t=self.conv2(t)\n",
    "        t=F.relu(t)\n",
    "        t=F.max_pool2d(t,kernel_size=2,stride=2)\n",
    "        \n",
    "        #Fc layer 1\n",
    "        t=t.reshape(-1,10*4*4)\n",
    "        t=self.fc1(t)\n",
    "        t=F.relu(t)\n",
    "        \n",
    "        #Final softmax layer\n",
    "        t=self.out(t)\n",
    "        #t=F.softmax(t,dim=1),No need to do this cross entropy does it by itself\n",
    "        \n",
    "        return t"
   ]
  },
  {
   "cell_type": "code",
   "execution_count": null,
   "metadata": {},
   "outputs": [],
   "source": [
    "#net=Network()\n",
    "net=torch.load('ConvNet MNIST.pth')\n",
    "net.eval()"
   ]
  },
  {
   "cell_type": "code",
   "execution_count": null,
   "metadata": {},
   "outputs": [],
   "source": [
    "#optimizer=optim.Adam(net.parameters(),lr=0.01)"
   ]
  },
  {
   "cell_type": "code",
   "execution_count": null,
   "metadata": {},
   "outputs": [],
   "source": [
    "def execute(num_iter):\n",
    "    costs=[]\n",
    "    for epoch in range(num_iter):\n",
    "        for batch in trainloader1:\n",
    "            images,labels=batch\n",
    "            \n",
    "            pred=net(images)\n",
    "            \n",
    "            loss=F.cross_entropy(pred,labels)\n",
    "            \n",
    "            optimizer.zero_grad()\n",
    "            loss.backward()\n",
    "            optimizer.step()\n",
    "            #print(\"Cost after batch process:\"+str(loss.item()))\n",
    "        print(\"Cost after epoch \"+str(epoch)+\":\"+str(loss.item()))   \n",
    "        costs.append(loss.item())\n",
    "               \n",
    "            \n",
    "    plt.plot(np.squeeze(costs))\n",
    "    plt.ylabel('cost')\n",
    "    plt.show()        "
   ]
  },
  {
   "cell_type": "code",
   "execution_count": null,
   "metadata": {},
   "outputs": [],
   "source": [
    "#execute(200)"
   ]
  },
  {
   "cell_type": "code",
   "execution_count": null,
   "metadata": {},
   "outputs": [],
   "source": [
    "b1=next(iter(trainloader1))\n",
    "i1,l1=b1\n",
    "p1=net(i1)\n",
    "print(p1.argmax(dim=1))\n",
    "a_train=p1.argmax(dim=1).eq(l1).sum()"
   ]
  },
  {
   "cell_type": "code",
   "execution_count": null,
   "metadata": {},
   "outputs": [],
   "source": [
    "print(\"Accuracy on train set:\"+str(int(a_train)/len(trainset)))"
   ]
  },
  {
   "cell_type": "code",
   "execution_count": null,
   "metadata": {},
   "outputs": [],
   "source": [
    "b=next(iter(testloader))\n",
    "i,l=b\n",
    "p_test=net(i)\n",
    "print(p_test.argmax(dim=1))\n",
    "a_test=p_test.argmax(dim=1).eq(l).sum()\n",
    "#print(a_test)"
   ]
  },
  {
   "cell_type": "code",
   "execution_count": null,
   "metadata": {},
   "outputs": [],
   "source": [
    "print(\"Accuracy on test set:\"+str(int(a_test)/len(testset)))"
   ]
  },
  {
   "cell_type": "code",
   "execution_count": null,
   "metadata": {},
   "outputs": [],
   "source": [
    "#Checking what was predicted as what......\n",
    "def show(index):\n",
    "    i=0\n",
    "    for batch in testloader_display:\n",
    "        if i==index:\n",
    "            img,label=batch\n",
    "            plt.imshow(img.squeeze(),cmap='gray')#.squeeze is required to change img dimensions from (1,28,28) to (28,28)\n",
    "            print('Prediction:'+str(int(p_test.argmax(dim=1)[i])))\n",
    "            print('Actual:'+str(int(label)))\n",
    "            break\n",
    "        elif i<index:\n",
    "            i+=1"
   ]
  },
  {
   "cell_type": "code",
   "execution_count": null,
   "metadata": {},
   "outputs": [],
   "source": [
    "show(78)"
   ]
  },
  {
   "cell_type": "code",
   "execution_count": null,
   "metadata": {},
   "outputs": [],
   "source": [
    "torch.save(net,'ConvNet MNIST.pth')"
   ]
  },
  {
   "cell_type": "code",
   "execution_count": null,
   "metadata": {},
   "outputs": [],
   "source": [
    "cnn=torch.load('ConvNet MNIST.pth')\n",
    "cnn.eval()"
   ]
  },
  {
   "cell_type": "code",
   "execution_count": null,
   "metadata": {},
   "outputs": [],
   "source": [
    "b=next(iter(testloader))\n",
    "i,l=b\n",
    "p=cnn(i)\n",
    "print(p.argmax(dim=1))\n",
    "a_test=p.argmax(dim=1).eq(l).sum()\n",
    "print(a_test)"
   ]
  },
  {
   "cell_type": "code",
   "execution_count": null,
   "metadata": {},
   "outputs": [],
   "source": []
  }
 ],
 "metadata": {
  "kernelspec": {
   "display_name": "Python 3",
   "language": "python",
   "name": "python3"
  },
  "language_info": {
   "codemirror_mode": {
    "name": "ipython",
    "version": 3
   },
   "file_extension": ".py",
   "mimetype": "text/x-python",
   "name": "python",
   "nbconvert_exporter": "python",
   "pygments_lexer": "ipython3",
   "version": "3.7.3"
  }
 },
 "nbformat": 4,
 "nbformat_minor": 2
}

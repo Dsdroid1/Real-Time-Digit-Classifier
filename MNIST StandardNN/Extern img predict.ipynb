{
 "cells": [
  {
   "cell_type": "code",
   "execution_count": 1,
   "metadata": {},
   "outputs": [],
   "source": [
    "import numpy as np\n",
    "import pandas as pd\n",
    "import matplotlib.pyplot as plt"
   ]
  },
  {
   "cell_type": "code",
   "execution_count": 2,
   "metadata": {},
   "outputs": [],
   "source": [
    "parameters=dict()\n",
    "parameters[\"W1\"]=np.array(pd.read_csv('W1.csv',header=None))\n",
    "parameters[\"W2\"]=np.array(pd.read_csv('W2.csv',header=None))\n",
    "parameters[\"b1\"]=np.array(pd.read_csv('b1.csv',header=None))\n",
    "parameters[\"b2\"]=np.array(pd.read_csv('b2.csv',header=None))\n"
   ]
  },
  {
   "cell_type": "code",
   "execution_count": 3,
   "metadata": {},
   "outputs": [
    {
     "data": {
      "text/plain": [
       "(150, 784)"
      ]
     },
     "execution_count": 3,
     "metadata": {},
     "output_type": "execute_result"
    }
   ],
   "source": [
    "parameters[\"W1\"].shape"
   ]
  },
  {
   "cell_type": "code",
   "execution_count": 4,
   "metadata": {},
   "outputs": [],
   "source": [
    "def forward_prop(A_prev,W,b):\n",
    "    #Calculates Z\n",
    "    Z=np.dot(W,A_prev)+b\n",
    "    assert(Z.shape==(W.shape[0],A_prev.shape[1]))\n",
    "    return Z"
   ]
  },
  {
   "cell_type": "code",
   "execution_count": 5,
   "metadata": {},
   "outputs": [],
   "source": [
    "def forward_act(A_prev,W,b,activation):\n",
    "    #Input -Type of activation\n",
    "    #Output-Activation\n",
    "    Z=forward_prop(A_prev,W,b)\n",
    "    if activation=='sigmoid':\n",
    "        A=1/(1+np.exp(-Z))\n",
    "    elif activation=='relu':\n",
    "        A=np.maximum(0,Z)\n",
    "    elif activation=='tanh':\n",
    "        A=(np.exp(Z)-np.exp(-Z))/(np.exp(Z)+np.exp(-Z))\n",
    "    elif activation=='softmax':\n",
    "        A=np.exp(Z)/np.sum(np.exp(Z),axis=0,keepdims=True)\n",
    "        \n",
    "    assert(Z.shape==(W.shape[0],A_prev.shape[1]))    \n",
    "    return A ,Z   "
   ]
  },
  {
   "cell_type": "code",
   "execution_count": 6,
   "metadata": {},
   "outputs": [],
   "source": [
    "def L_layer_forward(X,parameters):\n",
    "    l=int(len(parameters)/2)\n",
    "    A_prev=X\n",
    "    Z_caches=[]\n",
    "    A_caches=[]\n",
    "    A_caches.append(X)\n",
    "    #caches.append(X)\n",
    "    for i in range(l):\n",
    "        if i==l-1:  \n",
    "            AL,cache=forward_act(A_prev,parameters[\"W\"+str(i+1)],parameters[\"b\"+str(i+1)],'softmax')\n",
    "        else:\n",
    "            A,cache=forward_act(A_prev,parameters[\"W\"+str(i+1)],parameters[\"b\"+str(i+1)],'relu')\n",
    "            A_prev=A\n",
    "            A_caches.append(A_prev)\n",
    "        Z_caches.append(cache)\n",
    "    A_caches.append(AL)\n",
    "    \n",
    "   # assert(AL.shape==(n_y,m))\n",
    "    return AL,Z_caches,A_caches"
   ]
  },
  {
   "cell_type": "code",
   "execution_count": 7,
   "metadata": {},
   "outputs": [],
   "source": [
    "import scipy\n",
    "from scipy import ndimage"
   ]
  },
  {
   "cell_type": "code",
   "execution_count": 21,
   "metadata": {
    "scrolled": true
   },
   "outputs": [
    {
     "data": {
      "text/plain": [
       "\"img1=scipy.misc.imresize(img1,size=img1.shape)\\nimg2=img1[:,:,0]/3+img1[:,:,1]/3+img1[:,:,2]/3\\n#Slicing the important part of img\\nv_s=0\\nv_e=img2.shape[0]\\n\\nh_s=0\\nh_e=img2.shape[1]\\n\\nfor i in range(img2.shape[0]):\\n    if np.min(img2[i,:])>30:\\n        v_s+=1\\n    else:\\n        break\\nfor i in reversed(range(img2.shape[0])):        \\n    if (np.min(img2[i,:]))>30:\\n        v_e-=1\\n    else:\\n        break     \\nfor i in range(img2.shape[1]):\\n    if np.min(img2[:,i])>30:\\n        h_s+=1\\n    else:\\n        break\\nfor i in reversed(range(img2.shape[1])):        \\n    if np.min(img2[:,i])>30:\\n        h_e-=1\\n    else:\\n        break    \\n#Slicing that image\\nimg3=img2[v_s:v_e,h_s:h_e]       \\n#Maintaining the aspect ratio \\nih=h_e-h_s\\niv=v_e-v_s\\nif ih>iv:\\n    p=int((ih-iv)/2)\\n    img4=np.pad(np.array(img3),((p,p),(0,0)),'constant',constant_values=(255,255))   \\nelse:\\n    p=int((iv-ih)/2)\\n    img4=np.pad(np.array(img3),((0,0),(p,p)),'constant',constant_values=(255,255))\\n           \\nimg5=scipy.misc.imresize(img4,size=(20,20))\\nimg7=np.pad(img5,((4,4),(4,4)),'constant',constant_values=(255,255))\""
      ]
     },
     "execution_count": 21,
     "metadata": {},
     "output_type": "execute_result"
    }
   ],
   "source": [
    "img1=plt.imread('Downloads/img/i.jpeg')\n",
    "img1=scipy.misc.imresize(img1,size=img1.shape)\n",
    "img2=img1[:,:,0]/3+img1[:,:,1]/3+img1[:,:,2]/3\n",
    "#Slicing the important part of img\n",
    "v_s=0\n",
    "v_e=img2.shape[0]\n",
    "\n",
    "h_s=0\n",
    "h_e=img2.shape[1]\n",
    "\n",
    "for i in range(img2.shape[0]):\n",
    "    if np.min(img2[i,:])>30:\n",
    "        v_s+=1\n",
    "    else:\n",
    "        break\n",
    "for i in reversed(range(img2.shape[0])):        \n",
    "    if (np.min(img2[i,:]))>30:\n",
    "        v_e-=1\n",
    "    else:\n",
    "        break     \n",
    "for i in range(img2.shape[1]):\n",
    "    if np.min(img2[:,i])>30:\n",
    "        h_s+=1\n",
    "    else:\n",
    "        break\n",
    "for i in reversed(range(img2.shape[1])):        \n",
    "    if np.min(img2[:,i])>30:\n",
    "        h_e-=1\n",
    "    else:\n",
    "        break    \n",
    "#Slicing that image\n",
    "img3=img2[v_s:v_e,h_s:h_e]       \n",
    "#Maintaining the aspect ratio \n",
    "ih=h_e-h_s\n",
    "iv=v_e-v_s\n",
    "if ih>iv:\n",
    "    p=int((ih-iv)/2)\n",
    "    img4=np.pad(np.array(img3),((p,p),(0,0)),'constant',constant_values=(255,255))   \n",
    "else:\n",
    "    p=int((iv-ih)/2)\n",
    "    img4=np.pad(np.array(img3),((0,0),(p,p)),'constant',constant_values=(255,255))\n",
    "           \n",
    "img5=scipy.misc.imresize(img4,size=(20,20))\n",
    "#img7=np.pad(img5,((4,4),(4,4)),'constant',constant_values=(255,255))\n",
    "#better below\n"
   ]
  },
  {
   "cell_type": "code",
   "execution_count": null,
   "metadata": {},
   "outputs": [],
   "source": [
    "def find_centroid(img):\n",
    "    x_cm=0\n",
    "    y_cm=0\n",
    "    img=255-img\n",
    "    for i in range(1,img.shape[0]+1):\n",
    "        y_cm+=np.sum(i*img[:,i-1])\n",
    "    for i in range(1,img.shape[1]+1):\n",
    "        x_cm+=np.sum(i*img[i-1,:])\n",
    "    y_cm=int(y_cm/np.sum(img))\n",
    "    x_cm=int(x_cm/np.sum(img))\n",
    "    return x_cm,y_cm"
   ]
  },
  {
   "cell_type": "code",
   "execution_count": null,
   "metadata": {},
   "outputs": [],
   "source": [
    "x,y= find_centroid(img5)\n",
    "print(x)\n",
    "print(y)"
   ]
  },
  {
   "cell_type": "code",
   "execution_count": null,
   "metadata": {},
   "outputs": [],
   "source": [
    "def padder(img,x,y):\n",
    "\n",
    "    k=10-y\n",
    "    h=10-x\n",
    "        \n",
    "        \n",
    "        \n",
    "    img = np.pad(np.array(img), ((4+h, 4-h), (4+k, 4-k)), 'constant', constant_values=(255, 255))\n",
    "    return(img)    "
   ]
  },
  {
   "cell_type": "code",
   "execution_count": null,
   "metadata": {},
   "outputs": [],
   "source": [
    "img6=padder(img5,x,y)\n"
   ]
  },
  {
   "cell_type": "code",
   "execution_count": null,
   "metadata": {},
   "outputs": [],
   "source": [
    "x1,y1=find_centroid(img6)\n",
    "print(x1,y1)"
   ]
  },
  {
   "cell_type": "code",
   "execution_count": 22,
   "metadata": {},
   "outputs": [
    {
     "data": {
      "text/plain": [
       "<matplotlib.image.AxesImage at 0x7fc4d2f677b8>"
      ]
     },
     "execution_count": 22,
     "metadata": {},
     "output_type": "execute_result"
    },
    {
     "data": {
      "image/png": "[encoded data removed]",
      "text/plain": [
       "<Figure size 432x288 with 1 Axes>"
      ]
     },
     "metadata": {
      "needs_background": "light"
     },
     "output_type": "display_data"
    }
   ],
   "source": [
    "plt.imshow(img6)"
   ]
  },
  {
   "cell_type": "code",
   "execution_count": 23,
   "metadata": {},
   "outputs": [
    {
     "name": "stdout",
     "output_type": "stream",
     "text": [
      "4\n"
     ]
    },
    {
     "data": {
      "text/plain": [
       "<matplotlib.image.AxesImage at 0x7fc4d2ec82b0>"
      ]
     },
     "execution_count": 23,
     "metadata": {},
     "output_type": "execute_result"
    },
    {
     "data": {
      "image/png": "[encoded data removed]",
      "text/plain": [
       "<Figure size 432x288 with 1 Axes>"
      ]
     },
     "metadata": {
      "needs_background": "light"
     },
     "output_type": "display_data"
    }
   ],
   "source": [
    "X1=img6\n",
    "X2=X1.reshape(28*28,1)/255\n",
    "X3=1-X2\n",
    "A,zc,ac=L_layer_forward(X3,parameters)\n",
    "temp=(A>=np.max(A))\n",
    "predict=0\n",
    "for i in range(temp.shape[0]):\n",
    "    if temp[i]==1:\n",
    "        predict+=i\n",
    "#print(temp)\n",
    "print(predict)        \n",
    "plt.imshow(X1,cmap='gray')"
   ]
  }
 ],
 "metadata": {
  "kernelspec": {
   "display_name": "Python 3",
   "language": "python",
   "name": "python3"
  },
  "language_info": {
   "codemirror_mode": {
    "name": "ipython",
    "version": 3
   },
   "file_extension": ".py",
   "mimetype": "text/x-python",
   "name": "python",
   "nbconvert_exporter": "python",
   "pygments_lexer": "ipython3",
   "version": "3.7.3"
  }
 },
 "nbformat": 4,
 "nbformat_minor": 2
}

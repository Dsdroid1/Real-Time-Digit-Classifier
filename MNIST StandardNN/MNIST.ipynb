{
 "cells": [
  {
   "cell_type": "code",
   "execution_count": 1,
   "metadata": {},
   "outputs": [],
   "source": [
    "import numpy as np\n",
    "import pandas as pd\n",
    "import matplotlib.pyplot as plt"
   ]
  },
  {
   "cell_type": "code",
   "execution_count": 3,
   "metadata": {},
   "outputs": [],
   "source": [
    "data=pd.read_csv(\"Desktop/mnist_train.csv\",header=None)#Reads as dataframe,header=none for preventing 1st row cloumn to become headers\n",
    "data1=np.array(data)#converting to numpy array\n"
   ]
  },
  {
   "cell_type": "code",
   "execution_count": 4,
   "metadata": {},
   "outputs": [],
   "source": [
    "y=data1[:,0]\n",
    "y.reshape(y.shape[0],1)\n",
    "X=data1[:,1:]\n",
    "m=X.shape[0]\n",
    "n_x=X.shape[1]\n",
    "X=X.T/255\n",
    "n_y=10\n",
    "Y=np.zeros((10,m))\n",
    "for i in range(m):\n",
    "    Y[y[i],i]+=1\n",
    "#Train Input taken succesfully    "
   ]
  },
  {
   "cell_type": "code",
   "execution_count": 5,
   "metadata": {},
   "outputs": [],
   "source": [
    "data=pd.read_csv(\"Desktop/mnist_test.csv\",header=None)#Reads as dataframe,header=none for preventing 1st row cloumn to become headers\n",
    "data1=np.array(data)#converting to numpy array\n"
   ]
  },
  {
   "cell_type": "code",
   "execution_count": 6,
   "metadata": {},
   "outputs": [],
   "source": [
    "y_test=data1[:,0]\n",
    "y_test.reshape(y_test.shape[0],1)\n",
    "X_test=data1[:,1:]\n",
    "m_test=X_test.shape[0]\n",
    "n_x_test=X_test.shape[1]\n",
    "X_test=X_test.T/255\n",
    "n_y_test=10\n",
    "Y_test=np.zeros((10,m_test))\n",
    "for i in range(m_test):\n",
    "    Y_test[y_test[i],i]+=1"
   ]
  },
  {
   "cell_type": "code",
   "execution_count": 6,
   "metadata": {},
   "outputs": [],
   "source": [
    "def initialize_parameters(layer_dims):\n",
    "    #Input dimensions of layers\n",
    "    #Output-dictionary containing weights and bais for them\n",
    "    parameters=dict()\n",
    "    for i in range(len(layer_dims)-1):\n",
    "        parameters[\"W\"+str(i+1)]=np.random.randn(layer_dims[i+1],layer_dims[i])*0.01\n",
    "        parameters[\"b\"+str(i+1)]=np.zeros((layer_dims[i+1],1))\n",
    "        assert(parameters[\"W\"+str(i+1)]).shape==(layer_dims[i+1],layer_dims[i])\n",
    "        assert(parameters[\"b\"+str(i+1)]).shape==(layer_dims[i+1],1)\n",
    "        \n",
    "    return parameters "
   ]
  },
  {
   "cell_type": "code",
   "execution_count": 9,
   "metadata": {},
   "outputs": [],
   "source": [
    "def forward_prop(A_prev,W,b):\n",
    "    #Calculates Z\n",
    "    Z=np.dot(W,A_prev)+b\n",
    "    #assert(Z.shape==(W.shape[0],A_prev.shape[1]))\n",
    "    return Z"
   ]
  },
  {
   "cell_type": "code",
   "execution_count": 10,
   "metadata": {},
   "outputs": [],
   "source": [
    "def forward_act(A_prev,W,b,activation):\n",
    "    #Input -Type of activation\n",
    "    #Output-Activation\n",
    "    Z=forward_prop(A_prev,W,b)\n",
    "    if activation=='sigmoid':\n",
    "        A=1/(1+np.exp(-Z))\n",
    "    elif activation=='relu':\n",
    "        A=np.maximum(0,Z)\n",
    "    elif activation=='tanh':\n",
    "        A=(np.exp(Z)-np.exp(-Z))/(np.exp(Z)+np.exp(-Z))\n",
    "    elif activation=='softmax':\n",
    "        A=np.exp(Z)/np.sum(np.exp(Z),axis=0,keepdims=True)\n",
    "        \n",
    "    #assert(Z.shape==(W.shape[0],A_prev.shape[1]))    \n",
    "    return A ,Z   "
   ]
  },
  {
   "cell_type": "code",
   "execution_count": 11,
   "metadata": {},
   "outputs": [],
   "source": [
    "def L_layer_forward(X,parameters):\n",
    "    l=int(len(parameters)/2)\n",
    "    A_prev=X\n",
    "    Z_caches=[]\n",
    "    A_caches=[]\n",
    "    A_caches.append(X)\n",
    "    #caches.append(X)\n",
    "    for i in range(l):\n",
    "        if i==l-1:  \n",
    "            AL,cache=forward_act(A_prev,parameters[\"W\"+str(i+1)],parameters[\"b\"+str(i+1)],'softmax')\n",
    "        else:\n",
    "            A,cache=forward_act(A_prev,parameters[\"W\"+str(i+1)],parameters[\"b\"+str(i+1)],'relu')\n",
    "            A_prev=A\n",
    "            A_caches.append(A_prev)\n",
    "        Z_caches.append(cache)\n",
    "    A_caches.append(AL)\n",
    "    \n",
    "   # assert(AL.shape==(n_y,m))\n",
    "    return AL,Z_caches,A_caches"
   ]
  },
  {
   "cell_type": "code",
   "execution_count": 10,
   "metadata": {},
   "outputs": [],
   "source": [
    "def cost(AL,Y):\n",
    "    J=-1/m*np.sum(np.sum(np.log(AL)*Y,axis=0,keepdims=True),axis=1,keepdims=True)\n",
    "\n",
    "    \n",
    "    \n",
    "    return J"
   ]
  },
  {
   "cell_type": "code",
   "execution_count": 11,
   "metadata": {},
   "outputs": [],
   "source": [
    "def relu_backward(dA,Z):\n",
    "    temp=(Z>0)\n",
    "    dZ=dA*temp\n",
    "    \n",
    "    return dZ"
   ]
  },
  {
   "cell_type": "code",
   "execution_count": 12,
   "metadata": {},
   "outputs": [],
   "source": [
    "def softmax_backward(dA,Z):\n",
    "    dZ=dA*(np.exp(Z)/np.sum(np.exp(Z),axis=0,keepdims=True))*(1-np.exp(Z)/np.sum(np.exp(Z),axis=0,keepdims=True))\n",
    "    \n",
    "    return dZ"
   ]
  },
  {
   "cell_type": "code",
   "execution_count": 13,
   "metadata": {},
   "outputs": [],
   "source": [
    "def grad(A_caches,Z_caches,parameters,AL,Y):#needs amendment,dW1 always zero\n",
    "    grads=dict()\n",
    "    l=int(len(parameters)/2)\n",
    "    grads[\"dZ\"+str(l)]=AL-Y\n",
    "    for i in reversed(range(l)):\n",
    "        grads[\"dW\"+str(i+1)]=1/m*np.dot(grads[\"dZ\"+str(i+1)],A_caches[i].T)\n",
    "        grads[\"db\"+str(i+1)]=1/m*np.sum(grads[\"dZ\"+str(i+1)],axis=1,keepdims=True)\n",
    "        if i==0:break\n",
    "        dA=np.dot(parameters[\"W\"+str(i+1)].T,grads[\"dZ\"+str(i+1)])\n",
    "        if i==l-1:\n",
    "            grads[\"dZ\"+str(i)]=softmax_backward(dA,Z_caches[i-1])\n",
    "        else:\n",
    "            grads[\"dZ\"+str(i)]=relu_backward(dA,Z_caches[i-1])   \n",
    "        \n",
    "    return grads    "
   ]
  },
  {
   "cell_type": "code",
   "execution_count": 14,
   "metadata": {},
   "outputs": [],
   "source": [
    "def update_paramters(parameters,grads,learning_rate):\n",
    "    l=int(len(parameters)/2)\n",
    "    for i in range(l):\n",
    "        parameters[\"W\"+str(i+1)]-=learning_rate*grads[\"dW\"+str(i+1)]\n",
    "        parameters[\"b\"+str(i+1)]-=learning_rate*grads[\"db\"+str(i+1)]\n",
    "        \n",
    "    return parameters    "
   ]
  },
  {
   "cell_type": "code",
   "execution_count": 15,
   "metadata": {},
   "outputs": [],
   "source": [
    "def Train_model(X,Y,layer_dims,num_iter=1500,learning_rate=0.1,print_cost=False):\n",
    "    costs=[]\n",
    "    \n",
    "    parameters=initialize_parameters(layer_dims)\n",
    "    for i in range(num_iter):\n",
    "        AL,Z_caches,A_caches=L_layer_forward(X,parameters)\n",
    "        J=cost(AL,Y)\n",
    "        grads=grad(A_caches,Z_caches,parameters,AL,Y)\n",
    "        parameters=update_paramters(parameters,grads,learning_rate)\n",
    "        # Print the cost every 100 training example\n",
    "        if print_cost and i % 1 == 0:\n",
    "            print(\"Cost after iteration \"+str(i)+\":\"+str(J))\n",
    "        if print_cost and i % 1 == 0:\n",
    "            costs.append(J)\n",
    "       \n",
    "    # plot the cost\n",
    "\n",
    "    plt.plot(np.squeeze(costs))\n",
    "    plt.ylabel('cost')\n",
    "    plt.xlabel('iterations (per hundreds)')\n",
    "    plt.title(\"Learning rate =\" + str(learning_rate))\n",
    "    plt.show()\n",
    "        \n",
    "    \n",
    "    return parameters"
   ]
  },
  {
   "cell_type": "code",
   "execution_count": 16,
   "metadata": {},
   "outputs": [],
   "source": [
    "def Train_model_1(X,Y,layer_dims,num_iter=1500,learning_rate=0.1,print_cost=False):\n",
    "    costs=[]\n",
    "    \n",
    "    parameters=p\n",
    "    for i in range(num_iter):\n",
    "        AL,Z_caches,A_caches=L_layer_forward(X,parameters)\n",
    "        J=cost(AL,Y)\n",
    "        grads=grad(A_caches,Z_caches,parameters,AL,Y)\n",
    "        parameters=update_paramters(parameters,grads,learning_rate)\n",
    "        # Print the cost every 100 training example\n",
    "        if print_cost and i % 1 == 0:\n",
    "            print(\"Cost after iteration \"+str(i)+\":\"+str(J))\n",
    "        if print_cost and i % 1 == 0:\n",
    "            costs.append(J)\n",
    "       \n",
    "    # plot the cost\n",
    "\n",
    "    plt.plot(np.squeeze(costs))\n",
    "    plt.ylabel('cost')\n",
    "    plt.xlabel('iterations (per hundreds)')\n",
    "    plt.title(\"Learning rate =\" + str(learning_rate))\n",
    "    plt.show()\n",
    "        \n",
    "    \n",
    "    return parameters"
   ]
  },
  {
   "cell_type": "code",
   "execution_count": null,
   "metadata": {},
   "outputs": [],
   "source": [
    "layer_dims=[n_x,150,n_y]\n",
    "p=Train_model(X,Y,layer_dims,num_iter=1000,learning_rate=5,print_cost=True)\n"
   ]
  },
  {
   "cell_type": "code",
   "execution_count": 7,
   "metadata": {},
   "outputs": [],
   "source": [
    "p=dict()\n",
    "p[\"W1\"]=np.array(pd.read_csv('W1.csv',header=None))\n",
    "p[\"W2\"]=np.array(pd.read_csv('W2.csv',header=None))\n",
    "p[\"b1\"]=np.array(pd.read_csv('b1.csv',header=None))\n",
    "p[\"b2\"]=np.array(pd.read_csv('b2.csv',header=None))"
   ]
  },
  {
   "cell_type": "code",
   "execution_count": 29,
   "metadata": {},
   "outputs": [
    {
     "name": "stdout",
     "output_type": "stream",
     "text": [
      "Cost after iteration 0:[[0.14792449]]\n",
      "Cost after iteration 1:[[0.1479257]]\n",
      "Cost after iteration 2:[[0.14792691]]\n",
      "Cost after iteration 3:[[0.14792813]]\n",
      "Cost after iteration 4:[[0.14792934]]\n",
      "Cost after iteration 5:[[0.14793056]]\n",
      "Cost after iteration 6:[[0.14793178]]\n",
      "Cost after iteration 7:[[0.147933]]\n",
      "Cost after iteration 8:[[0.14793422]]\n",
      "Cost after iteration 9:[[0.14793544]]\n",
      "Cost after iteration 10:[[0.14793666]]\n"
     ]
    },
    {
     "ename": "KeyboardInterrupt",
     "evalue": "",
     "output_type": "error",
     "traceback": [
      "\u001b[0;31m---------------------------------------------------------------------------\u001b[0m",
      "\u001b[0;31mKeyboardInterrupt\u001b[0m                         Traceback (most recent call last)",
      "\u001b[0;32m<ipython-input-29-796f59ae295c>\u001b[0m in \u001b[0;36m<module>\u001b[0;34m\u001b[0m\n\u001b[1;32m      1\u001b[0m \u001b[0mlayer_dims\u001b[0m\u001b[0;34m=\u001b[0m\u001b[0;34m[\u001b[0m\u001b[0mn_x\u001b[0m\u001b[0;34m,\u001b[0m\u001b[0;36m150\u001b[0m\u001b[0;34m,\u001b[0m\u001b[0mn_y\u001b[0m\u001b[0;34m]\u001b[0m\u001b[0;34m\u001b[0m\u001b[0;34m\u001b[0m\u001b[0m\n\u001b[0;32m----> 2\u001b[0;31m \u001b[0mp\u001b[0m\u001b[0;34m=\u001b[0m\u001b[0mTrain_model_1\u001b[0m\u001b[0;34m(\u001b[0m\u001b[0mX\u001b[0m\u001b[0;34m,\u001b[0m\u001b[0mY\u001b[0m\u001b[0;34m,\u001b[0m\u001b[0mlayer_dims\u001b[0m\u001b[0;34m,\u001b[0m\u001b[0mnum_iter\u001b[0m\u001b[0;34m=\u001b[0m\u001b[0;36m1000\u001b[0m\u001b[0;34m,\u001b[0m\u001b[0mlearning_rate\u001b[0m\u001b[0;34m=\u001b[0m\u001b[0;36m0.1\u001b[0m\u001b[0;34m,\u001b[0m\u001b[0mprint_cost\u001b[0m\u001b[0;34m=\u001b[0m\u001b[0;32mTrue\u001b[0m\u001b[0;34m)\u001b[0m\u001b[0;34m\u001b[0m\u001b[0;34m\u001b[0m\u001b[0m\n\u001b[0m",
      "\u001b[0;32m<ipython-input-16-d64a84edea1f>\u001b[0m in \u001b[0;36mTrain_model_1\u001b[0;34m(X, Y, layer_dims, num_iter, learning_rate, print_cost)\u001b[0m\n\u001b[1;32m      4\u001b[0m     \u001b[0mparameters\u001b[0m\u001b[0;34m=\u001b[0m\u001b[0mp\u001b[0m\u001b[0;34m\u001b[0m\u001b[0;34m\u001b[0m\u001b[0m\n\u001b[1;32m      5\u001b[0m     \u001b[0;32mfor\u001b[0m \u001b[0mi\u001b[0m \u001b[0;32min\u001b[0m \u001b[0mrange\u001b[0m\u001b[0;34m(\u001b[0m\u001b[0mnum_iter\u001b[0m\u001b[0;34m)\u001b[0m\u001b[0;34m:\u001b[0m\u001b[0;34m\u001b[0m\u001b[0;34m\u001b[0m\u001b[0m\n\u001b[0;32m----> 6\u001b[0;31m         \u001b[0mAL\u001b[0m\u001b[0;34m,\u001b[0m\u001b[0mZ_caches\u001b[0m\u001b[0;34m,\u001b[0m\u001b[0mA_caches\u001b[0m\u001b[0;34m=\u001b[0m\u001b[0mL_layer_forward\u001b[0m\u001b[0;34m(\u001b[0m\u001b[0mX\u001b[0m\u001b[0;34m,\u001b[0m\u001b[0mparameters\u001b[0m\u001b[0;34m)\u001b[0m\u001b[0;34m\u001b[0m\u001b[0;34m\u001b[0m\u001b[0m\n\u001b[0m\u001b[1;32m      7\u001b[0m         \u001b[0mJ\u001b[0m\u001b[0;34m=\u001b[0m\u001b[0mcost\u001b[0m\u001b[0;34m(\u001b[0m\u001b[0mAL\u001b[0m\u001b[0;34m,\u001b[0m\u001b[0mY\u001b[0m\u001b[0;34m)\u001b[0m\u001b[0;34m\u001b[0m\u001b[0;34m\u001b[0m\u001b[0m\n\u001b[1;32m      8\u001b[0m         \u001b[0mgrads\u001b[0m\u001b[0;34m=\u001b[0m\u001b[0mgrad\u001b[0m\u001b[0;34m(\u001b[0m\u001b[0mA_caches\u001b[0m\u001b[0;34m,\u001b[0m\u001b[0mZ_caches\u001b[0m\u001b[0;34m,\u001b[0m\u001b[0mparameters\u001b[0m\u001b[0;34m,\u001b[0m\u001b[0mAL\u001b[0m\u001b[0;34m,\u001b[0m\u001b[0mY\u001b[0m\u001b[0;34m)\u001b[0m\u001b[0;34m\u001b[0m\u001b[0;34m\u001b[0m\u001b[0m\n",
      "\u001b[0;32m<ipython-input-9-1b1bf7566949>\u001b[0m in \u001b[0;36mL_layer_forward\u001b[0;34m(X, parameters)\u001b[0m\n\u001b[1;32m     10\u001b[0m             \u001b[0mAL\u001b[0m\u001b[0;34m,\u001b[0m\u001b[0mcache\u001b[0m\u001b[0;34m=\u001b[0m\u001b[0mforward_act\u001b[0m\u001b[0;34m(\u001b[0m\u001b[0mA_prev\u001b[0m\u001b[0;34m,\u001b[0m\u001b[0mparameters\u001b[0m\u001b[0;34m[\u001b[0m\u001b[0;34m\"W\"\u001b[0m\u001b[0;34m+\u001b[0m\u001b[0mstr\u001b[0m\u001b[0;34m(\u001b[0m\u001b[0mi\u001b[0m\u001b[0;34m+\u001b[0m\u001b[0;36m1\u001b[0m\u001b[0;34m)\u001b[0m\u001b[0;34m]\u001b[0m\u001b[0;34m,\u001b[0m\u001b[0mparameters\u001b[0m\u001b[0;34m[\u001b[0m\u001b[0;34m\"b\"\u001b[0m\u001b[0;34m+\u001b[0m\u001b[0mstr\u001b[0m\u001b[0;34m(\u001b[0m\u001b[0mi\u001b[0m\u001b[0;34m+\u001b[0m\u001b[0;36m1\u001b[0m\u001b[0;34m)\u001b[0m\u001b[0;34m]\u001b[0m\u001b[0;34m,\u001b[0m\u001b[0;34m'softmax'\u001b[0m\u001b[0;34m)\u001b[0m\u001b[0;34m\u001b[0m\u001b[0;34m\u001b[0m\u001b[0m\n\u001b[1;32m     11\u001b[0m         \u001b[0;32melse\u001b[0m\u001b[0;34m:\u001b[0m\u001b[0;34m\u001b[0m\u001b[0;34m\u001b[0m\u001b[0m\n\u001b[0;32m---> 12\u001b[0;31m             \u001b[0mA\u001b[0m\u001b[0;34m,\u001b[0m\u001b[0mcache\u001b[0m\u001b[0;34m=\u001b[0m\u001b[0mforward_act\u001b[0m\u001b[0;34m(\u001b[0m\u001b[0mA_prev\u001b[0m\u001b[0;34m,\u001b[0m\u001b[0mparameters\u001b[0m\u001b[0;34m[\u001b[0m\u001b[0;34m\"W\"\u001b[0m\u001b[0;34m+\u001b[0m\u001b[0mstr\u001b[0m\u001b[0;34m(\u001b[0m\u001b[0mi\u001b[0m\u001b[0;34m+\u001b[0m\u001b[0;36m1\u001b[0m\u001b[0;34m)\u001b[0m\u001b[0;34m]\u001b[0m\u001b[0;34m,\u001b[0m\u001b[0mparameters\u001b[0m\u001b[0;34m[\u001b[0m\u001b[0;34m\"b\"\u001b[0m\u001b[0;34m+\u001b[0m\u001b[0mstr\u001b[0m\u001b[0;34m(\u001b[0m\u001b[0mi\u001b[0m\u001b[0;34m+\u001b[0m\u001b[0;36m1\u001b[0m\u001b[0;34m)\u001b[0m\u001b[0;34m]\u001b[0m\u001b[0;34m,\u001b[0m\u001b[0;34m'relu'\u001b[0m\u001b[0;34m)\u001b[0m\u001b[0;34m\u001b[0m\u001b[0;34m\u001b[0m\u001b[0m\n\u001b[0m\u001b[1;32m     13\u001b[0m             \u001b[0mA_prev\u001b[0m\u001b[0;34m=\u001b[0m\u001b[0mA\u001b[0m\u001b[0;34m\u001b[0m\u001b[0;34m\u001b[0m\u001b[0m\n\u001b[1;32m     14\u001b[0m             \u001b[0mA_caches\u001b[0m\u001b[0;34m.\u001b[0m\u001b[0mappend\u001b[0m\u001b[0;34m(\u001b[0m\u001b[0mA_prev\u001b[0m\u001b[0;34m)\u001b[0m\u001b[0;34m\u001b[0m\u001b[0;34m\u001b[0m\u001b[0m\n",
      "\u001b[0;32m<ipython-input-8-5a92868c0cf3>\u001b[0m in \u001b[0;36mforward_act\u001b[0;34m(A_prev, W, b, activation)\u001b[0m\n\u001b[1;32m      2\u001b[0m     \u001b[0;31m#Input -Type of activation\u001b[0m\u001b[0;34m\u001b[0m\u001b[0;34m\u001b[0m\u001b[0;34m\u001b[0m\u001b[0m\n\u001b[1;32m      3\u001b[0m     \u001b[0;31m#Output-Activation\u001b[0m\u001b[0;34m\u001b[0m\u001b[0;34m\u001b[0m\u001b[0;34m\u001b[0m\u001b[0m\n\u001b[0;32m----> 4\u001b[0;31m     \u001b[0mZ\u001b[0m\u001b[0;34m=\u001b[0m\u001b[0mforward_prop\u001b[0m\u001b[0;34m(\u001b[0m\u001b[0mA_prev\u001b[0m\u001b[0;34m,\u001b[0m\u001b[0mW\u001b[0m\u001b[0;34m,\u001b[0m\u001b[0mb\u001b[0m\u001b[0;34m)\u001b[0m\u001b[0;34m\u001b[0m\u001b[0;34m\u001b[0m\u001b[0m\n\u001b[0m\u001b[1;32m      5\u001b[0m     \u001b[0;32mif\u001b[0m \u001b[0mactivation\u001b[0m\u001b[0;34m==\u001b[0m\u001b[0;34m'sigmoid'\u001b[0m\u001b[0;34m:\u001b[0m\u001b[0;34m\u001b[0m\u001b[0;34m\u001b[0m\u001b[0m\n\u001b[1;32m      6\u001b[0m         \u001b[0mA\u001b[0m\u001b[0;34m=\u001b[0m\u001b[0;36m1\u001b[0m\u001b[0;34m/\u001b[0m\u001b[0;34m(\u001b[0m\u001b[0;36m1\u001b[0m\u001b[0;34m+\u001b[0m\u001b[0mnp\u001b[0m\u001b[0;34m.\u001b[0m\u001b[0mexp\u001b[0m\u001b[0;34m(\u001b[0m\u001b[0;34m-\u001b[0m\u001b[0mZ\u001b[0m\u001b[0;34m)\u001b[0m\u001b[0;34m)\u001b[0m\u001b[0;34m\u001b[0m\u001b[0;34m\u001b[0m\u001b[0m\n",
      "\u001b[0;32m<ipython-input-7-7037535dc073>\u001b[0m in \u001b[0;36mforward_prop\u001b[0;34m(A_prev, W, b)\u001b[0m\n\u001b[1;32m      1\u001b[0m \u001b[0;32mdef\u001b[0m \u001b[0mforward_prop\u001b[0m\u001b[0;34m(\u001b[0m\u001b[0mA_prev\u001b[0m\u001b[0;34m,\u001b[0m\u001b[0mW\u001b[0m\u001b[0;34m,\u001b[0m\u001b[0mb\u001b[0m\u001b[0;34m)\u001b[0m\u001b[0;34m:\u001b[0m\u001b[0;34m\u001b[0m\u001b[0;34m\u001b[0m\u001b[0m\n\u001b[1;32m      2\u001b[0m     \u001b[0;31m#Calculates Z\u001b[0m\u001b[0;34m\u001b[0m\u001b[0;34m\u001b[0m\u001b[0;34m\u001b[0m\u001b[0m\n\u001b[0;32m----> 3\u001b[0;31m     \u001b[0mZ\u001b[0m\u001b[0;34m=\u001b[0m\u001b[0mnp\u001b[0m\u001b[0;34m.\u001b[0m\u001b[0mdot\u001b[0m\u001b[0;34m(\u001b[0m\u001b[0mW\u001b[0m\u001b[0;34m,\u001b[0m\u001b[0mA_prev\u001b[0m\u001b[0;34m)\u001b[0m\u001b[0;34m+\u001b[0m\u001b[0mb\u001b[0m\u001b[0;34m\u001b[0m\u001b[0;34m\u001b[0m\u001b[0m\n\u001b[0m\u001b[1;32m      4\u001b[0m     \u001b[0;31m#assert(Z.shape==(W.shape[0],A_prev.shape[1]))\u001b[0m\u001b[0;34m\u001b[0m\u001b[0;34m\u001b[0m\u001b[0;34m\u001b[0m\u001b[0m\n\u001b[1;32m      5\u001b[0m     \u001b[0;32mreturn\u001b[0m \u001b[0mZ\u001b[0m\u001b[0;34m\u001b[0m\u001b[0;34m\u001b[0m\u001b[0m\n",
      "\u001b[0;31mKeyboardInterrupt\u001b[0m: "
     ]
    }
   ],
   "source": [
    "layer_dims=[n_x,150,n_y]\n",
    "p=Train_model_1(X,Y,layer_dims,num_iter=1000,learning_rate=0.1,print_cost=True)"
   ]
  },
  {
   "cell_type": "code",
   "execution_count": null,
   "metadata": {},
   "outputs": [],
   "source": []
  },
  {
   "cell_type": "code",
   "execution_count": 12,
   "metadata": {},
   "outputs": [
    {
     "name": "stdout",
     "output_type": "stream",
     "text": [
      "Accuracy on training set is 0.95025\n"
     ]
    }
   ],
   "source": [
    "AL,Zcaches,Acaches=L_layer_forward(X,p)\n",
    "temp=np.ndarray.max(AL,axis=0,keepdims=True)\n",
    "AL=(AL>=temp)\n",
    "t=0\n",
    "for i in range(m):\n",
    "    a=1\n",
    "    for j in range(Y.shape[0]):\n",
    "        if AL[j,i]!=Y[j,i]:\n",
    "            a=0\n",
    "            break\n",
    "    if a==1:t+=1        \n",
    "            \n",
    "accuracy=t/(m)\n",
    "print(\"Accuracy on training set is \"+str(accuracy))"
   ]
  },
  {
   "cell_type": "code",
   "execution_count": 14,
   "metadata": {},
   "outputs": [
    {
     "name": "stdout",
     "output_type": "stream",
     "text": [
      "Accuracy on test set is 0.9492\n"
     ]
    }
   ],
   "source": [
    "AL,Zcaches,Acaches=L_layer_forward(X_test,p)\n",
    "temp=np.ndarray.max(AL,axis=0,keepdims=True)\n",
    "AL=(AL>=temp)\n",
    "t=0\n",
    "for i in range(m_test):\n",
    "    a=1\n",
    "    for j in range(Y_test.shape[0]):\n",
    "        if AL[j,i]!=Y_test[j,i]:\n",
    "            a=0\n",
    "            break\n",
    "    if a==1:t+=1        \n",
    "            \n",
    "accuracy=t/(m_test)\n",
    "print(\"Accuracy on test set is \"+str(accuracy))"
   ]
  },
  {
   "cell_type": "code",
   "execution_count": 15,
   "metadata": {},
   "outputs": [],
   "source": [
    "predict=np.zeros((1,m_test))\n",
    "for i in range(m_test):\n",
    "    for j in range(10):\n",
    "        if AL[j,i]==True:\n",
    "            predict[0,i]=j"
   ]
  },
  {
   "cell_type": "code",
   "execution_count": null,
   "metadata": {},
   "outputs": [],
   "source": [
    "tW1=pd.DataFrame(p[\"W1\"])\n",
    "tW1.to_csv('W1.csv',header=None,index=None)\n",
    "tW2=pd.DataFrame(p[\"W2\"])\n",
    "tW2.to_csv('W2.csv',header=None,index=None)\n",
    "tb1=pd.DataFrame(p[\"b1\"])\n",
    "tb1.to_csv('b1.csv',header=None,index=None)\n",
    "tb2=pd.DataFrame(p[\"b2\"])\n",
    "tb2.to_csv('b2.csv',header=None,index=None)"
   ]
  },
  {
   "cell_type": "code",
   "execution_count": 16,
   "metadata": {},
   "outputs": [],
   "source": [
    "def display(k):\n",
    "    plt.imshow(X_test[:,k].reshape(28,28))\n",
    "    print(\"You predicted it is :\"+str(predict[0,k]))  \n",
    "    print(\"It actually is:\"+str(y_test[k]))"
   ]
  },
  {
   "cell_type": "code",
   "execution_count": 17,
   "metadata": {},
   "outputs": [
    {
     "name": "stdout",
     "output_type": "stream",
     "text": [
      "You predicted it is :1.0\n",
      "It actually is:1\n"
     ]
    },
    {
     "data": {
      "image/png": "[encoded data removed]",
      "text/plain": [
       "<Figure size 432x288 with 1 Axes>"
      ]
     },
     "metadata": {
      "needs_background": "light"
     },
     "output_type": "display_data"
    }
   ],
   "source": [
    "display(57)"
   ]
  },
  {
   "cell_type": "code",
   "execution_count": null,
   "metadata": {},
   "outputs": [],
   "source": [
    "temp1=X_test[:,889].reshape(X_test.shape[0],1)\n",
    "A,zc,ac=L_layer_forward(temp1,p1)\n",
    "temp=(A>=np.max(A))\n",
    "predict=0\n",
    "for i in range(temp.shape[0]):\n",
    "    if temp[i]==1:\n",
    "        predict+=i\n",
    "plt.imshow(temp1.reshape(28,28))\n",
    "print(\"The img is like:\"+str(predict))        "
   ]
  },
  {
   "cell_type": "code",
   "execution_count": null,
   "metadata": {},
   "outputs": [],
   "source": [
    "temp.shape"
   ]
  },
  {
   "cell_type": "code",
   "execution_count": null,
   "metadata": {},
   "outputs": [],
   "source": [
    "p1=p"
   ]
  },
  {
   "cell_type": "code",
   "execution_count": null,
   "metadata": {},
   "outputs": [],
   "source": [
    "p1"
   ]
  },
  {
   "cell_type": "code",
   "execution_count": null,
   "metadata": {},
   "outputs": [],
   "source": []
  }
 ],
 "metadata": {
  "kernelspec": {
   "display_name": "Python 3",
   "language": "python",
   "name": "python3"
  },
  "language_info": {
   "codemirror_mode": {
    "name": "ipython",
    "version": 3
   },
   "file_extension": ".py",
   "mimetype": "text/x-python",
   "name": "python",
   "nbconvert_exporter": "python",
   "pygments_lexer": "ipython3",
   "version": "3.7.3"
  }
 },
 "nbformat": 4,
 "nbformat_minor": 2
}
